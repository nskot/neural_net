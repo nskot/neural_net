{
  "nbformat": 4,
  "nbformat_minor": 0,
  "metadata": {
    "colab": {
      "name": "NN_class.ipynb",
      "provenance": [],
      "collapsed_sections": [],
      "authorship_tag": "ABX9TyNGWLApXB5Bz9UDVyVI4FWY"
    },
    "kernelspec": {
      "name": "python3",
      "display_name": "Python 3"
    },
    "language_info": {
      "name": "python"
    }
  },
  "cells": [
    {
      "cell_type": "code",
      "source": [
        "import numpy as np\n",
        "import matplotlib.pyplot as plt"
      ],
      "metadata": {
        "id": "INqXhS8mA16x"
      },
      "execution_count": 3,
      "outputs": []
    },
    {
      "cell_type": "markdown",
      "source": [
        "# Defining loss functions, transfer functions, and a meta function"
      ],
      "metadata": {
        "id": "GrH2VDkYFkx4"
      }
    },
    {
      "cell_type": "code",
      "source": [
        "  def mae_loss(y, y_pred, grad = False):\n",
        "    if grad:\n",
        "        if y > y_pred:\n",
        "          return(-1)\n",
        "        else:\n",
        "          return(1)\n",
        "    else:\n",
        "      return(np.abs(y - y_pred))\n",
        "\n",
        "  def mse_loss(y, y_pred, grad = False):\n",
        "    if grad: \n",
        "      return(y_pred - y)\n",
        "    else:\n",
        "      return(np.square(y_pred - y))\n",
        "\n",
        "  def cross_entropy(y, y_pred, grad = False):\n",
        "    y_pred = np.where(y_pred == 0, 0.001, y_pred)\n",
        "    ## this isn't correct\n",
        "    if grad:\n",
        "      return(-y/y_pred)\n",
        "    else:\n",
        "      return(-y * np.log(y_pred))\n",
        "\n",
        "    \n",
        "#######\n",
        "  def identity(x, grad = False):\n",
        "    if grad:\n",
        "      return(1)\n",
        "    else:\n",
        "      return(x)\n",
        "\n",
        "  def sigm_stable(x):\n",
        "      if x < 0:\n",
        "        return(np.exp(x)/(1 + np.exp(x)))\n",
        "      else:\n",
        "        return(1/(1 + np.exp(-x)))\n",
        "\n",
        "  sigm_stable_v = np.vectorize(sigm_stable)\n",
        "\n",
        "  def sigmoid(x, grad = False):\n",
        "    #sigmoid = np.apply_along_axis(func1d = sigm_stable_v, axis = 1, arr = x)\n",
        "\n",
        "    x = np.where(x < -100, -100, x)\n",
        "\n",
        "    sigmoid = 1/(1 + np.exp(-x))\n",
        "\n",
        "    if grad:\n",
        "      return(sigmoid*(1-sigmoid))\n",
        "    else: \n",
        "      return(sigmoid)\n",
        "\n",
        "  # for the softmax the output needs to have n layers\n",
        "  def softmax(x, grad = False):\n",
        "    x = np.where(x < -100, -100, x)\n",
        "    b = np.max(x, axis = 0)\n",
        "    s = np.sum(np.exp(x - b), axis = 0)\n",
        "    sm = np.exp(x - b) / s\n",
        "    if grad:\n",
        "      return(sm*(1-sm))\n",
        "    else:\n",
        "      return(sm)\n",
        "\n",
        "\n",
        "  def leaky_relu(x, grad = False):\n",
        "    x = np.where(x==0, 0.01, x)\n",
        "    if grad:\n",
        "      return(np.where(x < 0, -0.01, 1))\n",
        "    else: \n",
        "      return(np.where(x < 0, x*0.01, x))\n",
        "\n",
        "  def transfer(x, f, grad = False):\n",
        "      return(f(x, grad = grad))\n"
      ],
      "metadata": {
        "id": "r9b0fviqA0sQ"
      },
      "execution_count": 4,
      "outputs": []
    },
    {
      "cell_type": "markdown",
      "source": [
        "# A class for a Neural Net that can act as a Regression and a Classifier\n"
      ],
      "metadata": {
        "id": "kVuwfYJNFwcW"
      }
    },
    {
      "cell_type": "code",
      "execution_count": 260,
      "metadata": {
        "id": "L_0odiEPgAOx"
      },
      "outputs": [],
      "source": [
        "class NN:\n",
        "  def __init__(self, nr_features, layers, loss_function):\n",
        "    \n",
        "    # add checks that the input is correct\n",
        "\n",
        "    # Nr or examples in the input\n",
        "    self.nr_features = nr_features\n",
        "    # list with tuples (size, transferfunction)\n",
        "    self.layers = layers\n",
        "    self.nr_layers = len(layers)\n",
        "    self.loss_function = loss_function\n",
        "\n",
        "    self.W = [np.random.randn(layers[0][0], self.nr_features)] # list of weights per layer\n",
        "    self.B = [np.random.randn(layers[0][0], 1)]  # list of biases per layers\n",
        "    self.F = [layers[0][1]]                      # list of activation functions per layer\n",
        "\n",
        "    for i in np.arange(1, len(layers)):  # fill the lists using the list layers\n",
        "      self.W.append(np.random.randn(layers[i][0], layers[i-1][0]))\n",
        "      self.B.append(np.random.randn(layers[i][0], 1))\n",
        "      self.F.append(layers[i][1])\n",
        "\n",
        "    self.A = [0 for i in self.F]           # list of outputs per layer\n",
        "    self.Z = [0 for i in self.F]           # list of inputs per layer\n",
        "    self.D = [0 for i in self.F]           # list of deltas per layer\n",
        "\n",
        "##############\n",
        "\n",
        "  def forward_pass(self, X):\n",
        "    self.Z[0] = self.W[0] @ X + self.B[0]\n",
        "    self.A[0] = transfer(f = self.F[0], x = self.Z[0]) \n",
        "\n",
        "    for i in np.arange(1, self.nr_layers):   \n",
        "\n",
        "      self.Z[i] = self.W[i] @ self.A[i-1] + self.B[i]     \n",
        "      self.A[i] = transfer(f = self.F[i], x = self.Z[i]) \n",
        "\n",
        "  def evaluate(self, y, y_pred):\n",
        "    loss = self.loss_function(y = y, y_pred = y_pred)\n",
        "    return(loss)\n",
        "\n",
        "#############\n",
        "\n",
        "  def backprop(self, X, y, learning_rate):\n",
        "\n",
        "    ## error of output\n",
        "    last = self.nr_layers-1\n",
        "\n",
        "    ## is loss is cross entropy, the last layer must be softmax in order for this to \n",
        "    ## be correct, check for that! \n",
        "    if self.loss_function == cross_entropy:\n",
        "      self.D[last] = self.A[last] - y\n",
        "    else: \n",
        "      error = self.loss_function(y = y, y_pred = self.A[last], grad = True)  \n",
        "      self.D[last] = error * transfer(f = self.F[last], x = self.Z[last], grad = True)\n",
        "    \n",
        "    one_vec = np.ones([self.D[last].shape[1], 1])\n",
        "\n",
        "    ## propagate through all layers\n",
        "    for i in np.arange(self.nr_layers-2, -1, -1):\n",
        "      error = self.W[i+1].T @ self.D[i+1]\n",
        "      self.D[i] = error * transfer(f = self.F[i], x = self.Z[i], grad = True)\n",
        "\n",
        "    ## adjust weights\n",
        "    self.W[0] -= self.D[0] @ X.T * learning_rate\n",
        "    self.B[0] -= self.D[0] @ one_vec  * learning_rate\n",
        "\n",
        "    for i in np.arange(1, self.nr_layers):\n",
        "      self.W[i] -=  (self.D[i] @ self.A[i-1].T) * learning_rate\n",
        "      self.B[i] -=  (self.D[i] @ one_vec) * learning_rate\n",
        "\n",
        "  def get_weights(self):\n",
        "    return(self.W)\n",
        "\n",
        "  def train(self, X, y, nr_iterations, learning_rate, track = False):\n",
        "\n",
        "    self.evaluations = []\n",
        "\n",
        "    for iteration in np.arange(nr_iterations): \n",
        "      self.forward_pass(X)\n",
        "\n",
        "      #print(np.sum(self.evaluate(y)))\n",
        "      if ((iteration % 1000 == 999) & track): \n",
        "        eval = np.sum(self.evaluate(y = y, y_pred = self.A[self.nr_layers-1]))\n",
        "        self.evaluations.append(eval)\n",
        "\n",
        "      self.backprop(X, y, learning_rate)\n",
        "\n",
        "  def predict(self, X):\n",
        "    self.forward_pass(X)\n",
        "    return(self.A[self.nr_layers-1])\n",
        "\n",
        "  def plot(self, color = 'b'):\n",
        "    x = np.arange(len(self.evaluations)) * 1000\n",
        "    y = self.evaluations\n",
        "    plt.plot(x, y, c=color)\n",
        "    plt.xlabel('Iterations')\n",
        "    plt.ylabel('loss')\n",
        "    plt.title('Training progress')\n",
        "\n",
        "  def get_evaluations(self):\n",
        "    return(self.evaluations)\n"
      ]
    },
    {
      "cell_type": "markdown",
      "source": [
        "# Trying it with some data\n",
        "- first dataset\n",
        "- mostly using leaky relu\n",
        "- 5 layers\n",
        "- linear output layer"
      ],
      "metadata": {
        "id": "-sy2GyfPF4iz"
      }
    },
    {
      "cell_type": "code",
      "source": [
        "# The last layer must be of size 1\n",
        "layers = [(3, leaky_relu), (4, sigmoid), (5, leaky_relu), (5, leaky_relu), (1, identity)]\n",
        "\n",
        "np.random.seed(9)\n",
        "X = np.random.randn(1, 100)*5 + 5\n",
        "y = 3*X + 2*np.random.randn(1, 100)"
      ],
      "metadata": {
        "id": "hVIvLYDJBwpg"
      },
      "execution_count": 66,
      "outputs": []
    },
    {
      "cell_type": "code",
      "source": [
        "regr_net_1 = NN(nr_features = 1, layers = layers, loss_function = mse_loss)\n",
        "regr_net_1.train(X, y, nr_iterations = 50000, learning_rate = 0.0001, track = True)"
      ],
      "metadata": {
        "id": "TJPLN0DrCJU8"
      },
      "execution_count": 67,
      "outputs": []
    },
    {
      "cell_type": "code",
      "source": [
        "print(regr_net_1.get_evaluations())\n",
        "regr_net_1.plot()\n"
      ],
      "metadata": {
        "id": "451EhEs7B5ML",
        "colab": {
          "base_uri": "https://localhost:8080/",
          "height": 332
        },
        "outputId": "1504b7ac-8543-4ac5-ad6b-aef6b2c6ae39"
      },
      "execution_count": 61,
      "outputs": [
        {
          "output_type": "stream",
          "name": "stdout",
          "text": [
            "[1147.4235238720564, 1117.9427899375398, 1126.385564592458, 1117.1487414281153, 1116.9544413337248, 1115.546015340297, 1115.8964304489577, 1115.667977638043, 1115.4664450582018, 1114.3710034057387, 1110.7337279619226, 1102.6051565406963, 1104.669540495341, 888.1568910184953, 605.8145135078814, 701.7496058268159, 2404.972199099401, 1254.543920531236, 916.9554915864038, 727.8156197935714, 813.7050285691248, 532.4241469264379, 548.8935276481395, 1000.7737538995142, 623.7960915428264, 964.7115791626181, 616.1763954223151, 536.4722883705115, 852.115338856582, 842.6456777388081, 860.9417320733179, 849.9551657892082, 847.0042042697257, 861.337519370949, 860.8943266825416, 860.5481522615905, 854.4080816951043, 876.00067227344, 833.5758741714498, 850.4041445157566, 849.4002509746501, 845.6118183179511, 835.0938240352617, 834.3492008086565, 847.7200454318299, 833.5340387372902, 843.4715955082727, 834.2622408309124, 840.0726051967957, 840.5322436159861]\n"
          ]
        },
        {
          "output_type": "display_data",
          "data": {
            "image/png": "[encoded data removed]",
            "text/plain": [
              "<Figure size 432x288 with 1 Axes>"
            ]
          },
          "metadata": {
            "needs_background": "light"
          }
        }
      ]
    },
    {
      "cell_type": "code",
      "source": [
        "regr_net_1.predict(X = [[2,3,1,1,3,2]])"
      ],
      "metadata": {
        "colab": {
          "base_uri": "https://localhost:8080/"
        },
        "id": "DyI8-T85EYhb",
        "outputId": "2ec04d1a-701d-4345-f66e-3432566e1a9c"
      },
      "execution_count": 68,
      "outputs": [
        {
          "output_type": "execute_result",
          "data": {
            "text/plain": [
              "array([[6.99904684, 8.28741894, 3.72049659, 3.72049659, 8.28741894,\n",
              "        6.99904684]])"
            ]
          },
          "metadata": {},
          "execution_count": 68
        }
      ]
    },
    {
      "cell_type": "code",
      "source": [
        "plt.scatter(x = X, y = y)\n",
        "plt.scatter(x = X, y = regr_net_1.predict(X), c = 'r')"
      ],
      "metadata": {
        "colab": {
          "base_uri": "https://localhost:8080/",
          "height": 282
        },
        "id": "J66Kc5zlEbxd",
        "outputId": "f833017f-bdc6-4543-9de4-439518c2c59e"
      },
      "execution_count": 72,
      "outputs": [
        {
          "output_type": "execute_result",
          "data": {
            "text/plain": [
              "<matplotlib.collections.PathCollection at 0x7f1394e1d450>"
            ]
          },
          "metadata": {},
          "execution_count": 72
        },
        {
          "output_type": "display_data",
          "data": {
            "image/png": "[encoded data removed]",
            "text/plain": [
              "<Figure size 432x288 with 1 Axes>"
            ]
          },
          "metadata": {
            "needs_background": "light"
          }
        }
      ]
    },
    {
      "cell_type": "code",
      "source": [
        "residuals = regr_net_1.predict(X) - y\n",
        "plt.scatter(x = regr_net_1.predict(X), y = residuals)\n",
        "plt.title(\"residuals vs fitted\")"
      ],
      "metadata": {
        "colab": {
          "base_uri": "https://localhost:8080/",
          "height": 298
        },
        "id": "sQvMKa0IFBwB",
        "outputId": "a41d7135-4b30-47e7-9a5d-60407dbc04fe"
      },
      "execution_count": 74,
      "outputs": [
        {
          "output_type": "execute_result",
          "data": {
            "text/plain": [
              "Text(0.5, 1.0, 'residuals vs fitted')"
            ]
          },
          "metadata": {},
          "execution_count": 74
        },
        {
          "output_type": "display_data",
          "data": {
            "image/png": "[encoded data removed]",
            "text/plain": [
              "<Figure size 432x288 with 1 Axes>"
            ]
          },
          "metadata": {
            "needs_background": "light"
          }
        }
      ]
    },
    {
      "cell_type": "markdown",
      "source": [
        "# Another Regression \n",
        "- binary classification\n",
        "- 4 layers\n",
        "- sigmoid output layer"
      ],
      "metadata": {
        "id": "DSkW7y7RGWoF"
      }
    },
    {
      "cell_type": "code",
      "source": [
        "# The last layer must be of size 1\n",
        "layers = [(3, sigmoid), (4, leaky_relu), (5, identity), (1, sigmoid)]\n",
        "\n",
        "np.random.seed(9)\n",
        "X = np.random.randn(1, 100)*5 + 5\n",
        "y = np.where(X + np.random.randn(1, 100) > 5, 1, 0) "
      ],
      "metadata": {
        "id": "_rjkyi-DDJEU"
      },
      "execution_count": 77,
      "outputs": []
    },
    {
      "cell_type": "code",
      "source": [
        "regr_net_2 = NN(nr_features = 1, layers = layers, loss_function = mse_loss)\n",
        "regr_net_2.train(X, y, nr_iterations = 50000, learning_rate = 0.0001, track = True)"
      ],
      "metadata": {
        "id": "B6hIYE1aFjPB"
      },
      "execution_count": 78,
      "outputs": []
    },
    {
      "cell_type": "code",
      "source": [
        "print(regr_net_2.get_evaluations())\n",
        "regr_net_2.plot()\n",
        "print(regr_net_1.predict(X = [[2,3,1,1,3,2]]))\n",
        "plt.figure()\n",
        "plt.scatter(x = X, y = y)\n",
        "plt.scatter(x = X, y = regr_net_2.predict(X), c = 'r')\n",
        "plt.figure()\n",
        "residuals = regr_net_2.predict(X) - y\n",
        "plt.scatter(x = regr_net_2.predict(X), y = residuals)\n",
        "plt.title(\"residuals vs fitted\")"
      ],
      "metadata": {
        "colab": {
          "base_uri": "https://localhost:8080/",
          "height": 879
        },
        "id": "f-dvOo9LGMDh",
        "outputId": "28efd579-6b75-4494-8b92-f2cf1cba49f3"
      },
      "execution_count": 86,
      "outputs": [
        {
          "output_type": "stream",
          "name": "stdout",
          "text": [
            "[7.714512084103329, 6.337632002518842, 5.804746209312318, 5.53685670849222, 5.366499443146117, 5.240435000984234, 5.164735225253564, 5.0954365159576165, 4.984788301421364, 4.967293023518114, 4.9531422514311725, 4.941546142461835, 4.93194408664049, 4.923731088989937, 4.916949309457445, 4.911000034592877, 4.906040675320396, 4.901752586732583, 4.89807770967446, 4.8948222799052425, 4.891970423510965, 4.889633750859111, 4.887394501489886, 4.885571280300939, 4.88392357353033, 4.882503836654552, 4.881190693342467, 4.88005566234433, 4.87900239921358, 4.878113072901237, 4.877294533315414, 4.87651527308284, 4.875899804065616, 4.875176806368048, 4.874708187777053, 4.874227480593519, 4.873692263504375, 4.873262627372757, 4.872896944534733, 4.872551135742414, 4.872198704530506, 4.8718301112919775, 4.871542774388529, 4.871331638722561, 4.871094010485871, 4.870847203471427, 4.870536244945787, 4.870326874731046, 4.870202439838737, 4.869886983532852]\n",
            "[[6.99904684 8.28741894 3.72049659 3.72049659 8.28741894 6.99904684]]\n"
          ]
        },
        {
          "output_type": "execute_result",
          "data": {
            "text/plain": [
              "Text(0.5, 1.0, 'residuals vs fitted')"
            ]
          },
          "metadata": {},
          "execution_count": 86
        },
        {
          "output_type": "display_data",
          "data": {
            "image/png": "[encoded data removed]",
            "text/plain": [
              "<Figure size 432x288 with 1 Axes>"
            ]
          },
          "metadata": {
            "needs_background": "light"
          }
        },
        {
          "output_type": "display_data",
          "data": {
            "image/png": "[encoded data removed]",
            "text/plain": [
              "<Figure size 432x288 with 1 Axes>"
            ]
          },
          "metadata": {
            "needs_background": "light"
          }
        },
        {
          "output_type": "display_data",
          "data": {
            "image/png": "[encoded data removed]",
            "text/plain": [
              "<Figure size 432x288 with 1 Axes>"
            ]
          },
          "metadata": {
            "needs_background": "light"
          }
        }
      ]
    },
    {
      "cell_type": "markdown",
      "source": [
        "# Multi categorical classification\n",
        "- 3 categories\n",
        "- softmax output \n",
        "- cross entropy loss\n",
        "- 4 layers"
      ],
      "metadata": {
        "id": "Dm_s_0Feq_Qp"
      }
    },
    {
      "cell_type": "code",
      "source": [
        "# The last layer must be of size 3 for 3 categories\n",
        "layers = [(3, sigmoid), (4, leaky_relu), (5, identity), (3, softmax)]\n",
        "\n",
        "np.random.seed(9)\n",
        "X = np.random.randn(3, 100)*5 + 5\n",
        "maxima = np.argmax(X, axis = 0)\n",
        "\n",
        "y = np.zeros_like(X)\n",
        "\n",
        "for k in np.arange(y.shape[1]):\n",
        "  y[maxima[k], k] = 1\n"
      ],
      "metadata": {
        "id": "vxTluKd-qfzy"
      },
      "execution_count": 88,
      "outputs": []
    },
    {
      "cell_type": "code",
      "source": [
        "class_net = NN(nr_features = 3, layers = layers, loss_function = cross_entropy)\n",
        "class_net.train(X, y, nr_iterations = 50000, learning_rate = 0.0001, track = True)"
      ],
      "metadata": {
        "id": "CU1Ti3vCq3Al"
      },
      "execution_count": 91,
      "outputs": []
    },
    {
      "cell_type": "code",
      "source": [
        "class_net.plot()"
      ],
      "metadata": {
        "colab": {
          "base_uri": "https://localhost:8080/",
          "height": 295
        },
        "id": "johm6hR2GlSq",
        "outputId": "9aee586b-6c5b-4e01-beb7-7bf271ea49d2"
      },
      "execution_count": 93,
      "outputs": [
        {
          "output_type": "display_data",
          "data": {
            "image/png": "[encoded data removed]",
            "text/plain": [
              "<Figure size 432x288 with 1 Axes>"
            ]
          },
          "metadata": {
            "needs_background": "light"
          }
        }
      ]
    },
    {
      "cell_type": "code",
      "source": [
        "np.round(X[:,:8], 2), np.round(class_net.predict(X = X[:,:8]), 2), y[:,:8]"
      ],
      "metadata": {
        "colab": {
          "base_uri": "https://localhost:8080/"
        },
        "id": "4gdydWBMGhW6",
        "outputId": "4d10e4ee-bbc1-4dd5-8685-9c03cdc01464"
      },
      "execution_count": 94,
      "outputs": [
        {
          "output_type": "execute_result",
          "data": {
            "text/plain": [
              "(array([[ 5.01,  3.55, -0.58,  4.94,  3.11,  2.59, -2.59,  2.55],\n",
              "        [ 7.81,  6.2 ,  7.4 ,  5.31, -0.35, -1.37,  9.6 , 10.27],\n",
              "        [-0.92, -0.15,  0.43,  0.88,  1.31,  9.29,  9.74, 10.98]]),\n",
              " array([[0.  , 0.  , 0.  , 0.01, 1.  , 0.  , 0.  , 0.  ],\n",
              "        [1.  , 1.  , 1.  , 0.99, 0.  , 0.  , 0.14, 0.  ],\n",
              "        [0.  , 0.  , 0.  , 0.  , 0.  , 1.  , 0.86, 1.  ]]),\n",
              " array([[0., 0., 0., 0., 1., 0., 0., 0.],\n",
              "        [1., 1., 1., 1., 0., 0., 0., 0.],\n",
              "        [0., 0., 0., 0., 0., 1., 1., 1.]]))"
            ]
          },
          "metadata": {},
          "execution_count": 94
        }
      ]
    },
    {
      "cell_type": "code",
      "source": [
        "X.shape, y.shape"
      ],
      "metadata": {
        "id": "5i7lwNqnoSXu",
        "colab": {
          "base_uri": "https://localhost:8080/"
        },
        "outputId": "3dac9d4b-e95d-4706-a66b-8acfbb3aedf6"
      },
      "execution_count": 96,
      "outputs": [
        {
          "output_type": "execute_result",
          "data": {
            "text/plain": [
              "((3, 100), (3, 100))"
            ]
          },
          "metadata": {},
          "execution_count": 96
        }
      ]
    },
    {
      "cell_type": "code",
      "source": [
        "plt.figure()\n",
        "residuals = class_net.predict(X) - y\n",
        "plt.scatter(x = class_net.predict(X), y = residuals)\n",
        "plt.title(\"residuals vs fitted\")"
      ],
      "metadata": {
        "colab": {
          "base_uri": "https://localhost:8080/",
          "height": 298
        },
        "id": "rBH0w-0GevAF",
        "outputId": "108f3189-5052-4694-fc3c-16e53d96fdcb"
      },
      "execution_count": 97,
      "outputs": [
        {
          "output_type": "execute_result",
          "data": {
            "text/plain": [
              "Text(0.5, 1.0, 'residuals vs fitted')"
            ]
          },
          "metadata": {},
          "execution_count": 97
        },
        {
          "output_type": "display_data",
          "data": {
            "image/png": "[encoded data removed]",
            "text/plain": [
              "<Figure size 432x288 with 1 Axes>"
            ]
          },
          "metadata": {
            "needs_background": "light"
          }
        }
      ]
    },
    {
      "cell_type": "markdown",
      "source": [
        ""
      ],
      "metadata": {
        "id": "k-Lk0hJ7eulx"
      }
    },
    {
      "cell_type": "code",
      "source": [
        "def test_train_split(X, y, test_size = 0.2):\n",
        "  assert 1/test_size % 1 == 0, 'test size does not allow for a cv split, chose a suitable division (e.g. 0.2)'\n",
        "  nr_splits = int(1/test_size)\n",
        "  test_n = X.shape[1]*test_size\n",
        "\n",
        "  random_ind = np.random.choice(X.shape[1], size = X.shape[1], replace = False)\n",
        "\n",
        "  partition = np.array(np.array_split(random_ind, nr_splits))\n",
        "\n",
        "  train_sets = []\n",
        "  test_sets = []\n",
        "\n",
        "  for cv in np.arange(nr_splits):\n",
        "\n",
        "    ind_test = cv\n",
        "    ind_train = np.array(list(set(np.arange(nr_splits)) - set([cv])))\n",
        "\n",
        "    test = random_ind[partition[ind_test]].flatten()\n",
        "    train = random_ind[partition[ind_train]].flatten()\n",
        "\n",
        "    test_sets.append((X[:,test], y[:,test]))\n",
        "    train_sets.append((X[:,train], y[:,train]))\n",
        "\n",
        "  return(test_sets, train_sets)\n",
        "\n",
        "\n"
      ],
      "metadata": {
        "id": "UqM0glWCJueZ"
      },
      "execution_count": 237,
      "outputs": []
    },
    {
      "cell_type": "markdown",
      "source": [
        "# Cross Validation"
      ],
      "metadata": {
        "id": "xSEvwHmbD-QB"
      }
    },
    {
      "cell_type": "code",
      "source": [
        "from matplotlib import cm\n",
        "\n",
        "viridis = cm.get_cmap('viridis', 10)\n",
        "viridis(0), viridis(0.1), viridis(1)"
      ],
      "metadata": {
        "colab": {
          "base_uri": "https://localhost:8080/"
        },
        "id": "RHjt_Ad4Q-YK",
        "outputId": "d482b58c-43bf-4830-e7d5-6153e2c418c2"
      },
      "execution_count": 273,
      "outputs": [
        {
          "output_type": "execute_result",
          "data": {
            "text/plain": [
              "((0.267004, 0.004874, 0.329415, 1.0),\n",
              " (0.281412, 0.155834, 0.469201, 1.0),\n",
              " (0.281412, 0.155834, 0.469201, 1.0))"
            ]
          },
          "metadata": {},
          "execution_count": 273
        }
      ]
    },
    {
      "cell_type": "code",
      "source": [
        "nr_folds = 10\n",
        "\n",
        "test_sets, train_sets = test_train_split(X, y, test_size = 1/nr_folds)\n",
        "\n",
        "\n",
        "cv_losses = []\n",
        "for i in range(nr_folds):\n",
        "  X_train, y_train = train_sets[i]\n",
        "  X_test, y_test = test_sets[i] \n",
        "  cv_net = NN(nr_features = 3, layers = layers, loss_function = cross_entropy)\n",
        "  cv_net.train(X_train, y_train, nr_iterations = 10000, learning_rate = 0.0001, track = True)\n",
        "  cv_net.plot(color = viridis(i/nr_folds))\n",
        "  y_pred = cv_net.predict(X_test)\n",
        "  cv_losses.append(np.sum(cv_net.evaluate(y_test, y_pred)))\n"
      ],
      "metadata": {
        "colab": {
          "base_uri": "https://localhost:8080/",
          "height": 295
        },
        "id": "N1dRlSdYnPpG",
        "outputId": "0316f7d7-802f-4680-905e-0779e16b8388"
      },
      "execution_count": 274,
      "outputs": [
        {
          "output_type": "display_data",
          "data": {
            "image/png": "[encoded data removed]",
            "text/plain": [
              "<Figure size 432x288 with 1 Axes>"
            ]
          },
          "metadata": {
            "needs_background": "light"
          }
        }
      ]
    },
    {
      "cell_type": "code",
      "source": [
        "cv_losses"
      ],
      "metadata": {
        "colab": {
          "base_uri": "https://localhost:8080/"
        },
        "id": "WHv6PIfREDYB",
        "outputId": "d0b1ae88-e568-448b-f661-4921fcedd333"
      },
      "execution_count": 275,
      "outputs": [
        {
          "output_type": "execute_result",
          "data": {
            "text/plain": [
              "[11.513245438151275,\n",
              " 12.785233246977057,\n",
              " 5.329390703824865,\n",
              " 0.6044586506129854,\n",
              " 2.972094931947865,\n",
              " 0.09851295546507377,\n",
              " 0.6130341448260753,\n",
              " 5.038509326918991,\n",
              " 0.16751101822923606,\n",
              " 0.17273638827172164]"
            ]
          },
          "metadata": {},
          "execution_count": 275
        }
      ]
    },
    {
      "cell_type": "code",
      "source": [
        "np.mean(cv_losses)"
      ],
      "metadata": {
        "colab": {
          "base_uri": "https://localhost:8080/"
        },
        "id": "5JxpWPBtP5mD",
        "outputId": "fffe80fe-b809-44b4-ec90-4db0e08ac67d"
      },
      "execution_count": 276,
      "outputs": [
        {
          "output_type": "execute_result",
          "data": {
            "text/plain": [
              "3.9294726805225144"
            ]
          },
          "metadata": {},
          "execution_count": 276
        }
      ]
    },
    {
      "cell_type": "code",
      "source": [
        ""
      ],
      "metadata": {
        "id": "IoIDYq-gP8tp"
      },
      "execution_count": null,
      "outputs": []
    }
  ]
}